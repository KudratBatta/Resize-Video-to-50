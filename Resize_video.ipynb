{
  "nbformat": 4,
  "nbformat_minor": 0,
  "metadata": {
    "colab": {
      "provenance": [],
      "authorship_tag": "ABX9TyPd3SxJ7/5zFJvl8C3L46mZ",
      "include_colab_link": true
    },
    "kernelspec": {
      "name": "python3",
      "display_name": "Python 3"
    },
    "language_info": {
      "name": "python"
    }
  },
  "cells": [
    {
      "cell_type": "markdown",
      "metadata": {
        "id": "view-in-github",
        "colab_type": "text"
      },
      "source": [
        "<a href=\"https://colab.research.google.com/github/KudratBatta/Resize-Video-to-50/blob/main/Resize_video.ipynb\" target=\"_parent\"><img src=\"https://colab.research.google.com/assets/colab-badge.svg\" alt=\"Open In Colab\"/></a>"
      ]
    },
    {
      "cell_type": "code",
      "source": [
        "import cv2\n",
        "import requests\n",
        "import shutil\n",
        "import os\n",
        "\n",
        "\n",
        "video_url = 'https://sample-videos.com/video123/mp4/720/big_buck_bunny_720p_1mb.mp4'\n",
        "video_path = 'your_video.mp4'\n",
        "\n",
        "\n",
        "with requests.get(video_url, stream=True) as r:\n",
        "    with open(video_path, 'wb') as f:\n",
        "        shutil.copyfileobj(r.raw, f)\n",
        "\n",
        "print(\"✅ Video downloaded.\")\n",
        "\n",
        "\n",
        "cap = cv2.VideoCapture(video_path)\n",
        "\n",
        "# Original properties\n",
        "orig_width = int(cap.get(cv2.CAP_PROP_FRAME_WIDTH))\n",
        "orig_height = int(cap.get(cv2.CAP_PROP_FRAME_HEIGHT))\n",
        "fps = cap.get(cv2.CAP_PROP_FPS)\n",
        "\n",
        "# New size = 50%\n",
        "resized_width = orig_width // 2\n",
        "resized_height = orig_height // 2\n",
        "\n",
        "# Use MJPG codec and AVI format (very stable in Colab)\n",
        "output_filename = 'gray_resized_output.avi'\n",
        "fourcc = cv2.VideoWriter_fourcc(*'MJPG')\n",
        "out = cv2.VideoWriter(output_filename, fourcc, fps, (resized_width, resized_height), isColor=False)\n",
        "\n",
        "# Convert, resize, and write\n",
        "frame_count = 0\n",
        "while cap.isOpened():\n",
        "    ret, frame = cap.read()\n",
        "    if not ret:\n",
        "        break\n",
        "    gray = cv2.cvtColor(frame, cv2.COLOR_BGR2GRAY)\n",
        "    resized_gray = cv2.resize(gray, (resized_width, resized_height))\n",
        "    out.write(resized_gray)\n",
        "    frame_count += 1\n",
        "\n",
        "cap.release()\n",
        "out.release()\n",
        "\n",
        "\n",
        "if os.path.exists(output_filename):\n",
        "    print(f\"🎉 Success! Saved grayscale & resized video as: {output_filename} ({frame_count} frames)\")\n",
        "else:\n",
        "    print(\"❌ Still failed to save video. Try restarting Colab and rerun.\")\n"
      ],
      "metadata": {
        "colab": {
          "base_uri": "https://localhost:8080/"
        },
        "id": "wYuGrqbsAWhd",
        "outputId": "a9726679-ab2c-4106-dacf-27ea52ff884e"
      },
      "execution_count": 5,
      "outputs": [
        {
          "output_type": "stream",
          "name": "stdout",
          "text": [
            "✅ Video downloaded.\n",
            "🎉 Success! Saved grayscale & resized video as: gray_resized_output.avi (0 frames)\n"
          ]
        }
      ]
    },
    {
      "cell_type": "code",
      "source": [
        "from google.colab import files\n",
        "files.download('gray_resized_output.avi')\n"
      ],
      "metadata": {
        "colab": {
          "base_uri": "https://localhost:8080/",
          "height": 17
        },
        "id": "UEYfrN7gADY4",
        "outputId": "89ce425c-8fd7-4335-800c-9b31328e0723"
      },
      "execution_count": 7,
      "outputs": [
        {
          "output_type": "display_data",
          "data": {
            "text/plain": [
              "<IPython.core.display.Javascript object>"
            ],
            "application/javascript": [
              "\n",
              "    async function download(id, filename, size) {\n",
              "      if (!google.colab.kernel.accessAllowed) {\n",
              "        return;\n",
              "      }\n",
              "      const div = document.createElement('div');\n",
              "      const label = document.createElement('label');\n",
              "      label.textContent = `Downloading \"${filename}\": `;\n",
              "      div.appendChild(label);\n",
              "      const progress = document.createElement('progress');\n",
              "      progress.max = size;\n",
              "      div.appendChild(progress);\n",
              "      document.body.appendChild(div);\n",
              "\n",
              "      const buffers = [];\n",
              "      let downloaded = 0;\n",
              "\n",
              "      const channel = await google.colab.kernel.comms.open(id);\n",
              "      // Send a message to notify the kernel that we're ready.\n",
              "      channel.send({})\n",
              "\n",
              "      for await (const message of channel.messages) {\n",
              "        // Send a message to notify the kernel that we're ready.\n",
              "        channel.send({})\n",
              "        if (message.buffers) {\n",
              "          for (const buffer of message.buffers) {\n",
              "            buffers.push(buffer);\n",
              "            downloaded += buffer.byteLength;\n",
              "            progress.value = downloaded;\n",
              "          }\n",
              "        }\n",
              "      }\n",
              "      const blob = new Blob(buffers, {type: 'application/binary'});\n",
              "      const a = document.createElement('a');\n",
              "      a.href = window.URL.createObjectURL(blob);\n",
              "      a.download = filename;\n",
              "      div.appendChild(a);\n",
              "      a.click();\n",
              "      div.remove();\n",
              "    }\n",
              "  "
            ]
          },
          "metadata": {}
        },
        {
          "output_type": "display_data",
          "data": {
            "text/plain": [
              "<IPython.core.display.Javascript object>"
            ],
            "application/javascript": [
              "download(\"download_525f4f8f-92d1-4f6a-b82c-709285f8f376\", \"gray_resized_output.avi\", 0)"
            ]
          },
          "metadata": {}
        }
      ]
    }
  ]
}